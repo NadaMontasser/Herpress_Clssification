{
  "nbformat": 4,
  "nbformat_minor": 0,
  "metadata": {
    "colab": {
      "provenance": []
    },
    "kernelspec": {
      "name": "python3",
      "display_name": "Python 3"
    },
    "language_info": {
      "name": "python"
    }
  },
  "cells": [
    {
      "cell_type": "code",
      "source": [
        "class SpellChecker:\n",
        "    def __init__(self):\n",
        "        self.dic = set()\n",
        "        \n",
        "    #1-Store this dictionary in a suitable data structure.\n",
        "    def read_dic(self, file_path):\n",
        "        # Time Complexity: O(n), where n is the number of words in the dictionary\n",
        "        # Space Complexity: O(n), where n is the number of words in the dictionary\n",
        "        with open(file_path, \"r\", encoding=\"latin-1\") as file:\n",
        "            self.dic = set(file.read().split())\n",
        "\n",
        "    #2-Take an input word and return the nearest 4 words if this word is not in the dictionary\n",
        "    def suggest_similar_words(self, word):\n",
        "\n",
        "        # Time Complexity: O(n * k), where n is the number of words in the dictionary\n",
        "        # and k is the average length of the words\n",
        "        # Space Complexity: O(k), where k is the average length of the words\n",
        "\n",
        "        distances = [(self.edit_distance(word, dict_word), dict_word) for dict_word in self.dic]\n",
        "        sorted_distances = sorted(distances, key=lambda x: x[0])\n",
        "\n",
        "        # Return the nearest 4 words\n",
        "        return [word for _, word in sorted_distances[:4]]\n",
        "\n",
        "    #3-Take an input word and add this word to the dictionary\n",
        "    def add_word(self, word):\n",
        "        # Time Complexity: O(1)\n",
        "        # Space Complexity: O(1)\n",
        "        self.dic.add(word)\n",
        "       \n",
        "    #get the edit distice between word using dynamic programming\n",
        "    def edit_distance(self, word1, word2):\n",
        "        m = len(word1)\n",
        "        n = len(word2)\n",
        "        dp = [[0] * (n + 1) for _ in range(m + 1)]\n",
        "\n",
        "        for i in range(m + 1):\n",
        "            dp[i][0] = i\n",
        "\n",
        "        for j in range(n + 1):\n",
        "            dp[0][j] = j\n",
        "\n",
        "        for i in range(1, m + 1):\n",
        "            for j in range(1, n + 1):\n",
        "                if word1[i - 1] == word2[j - 1]:\n",
        "                    dp[i][j] = dp[i - 1][j - 1]\n",
        "                else:\n",
        "                    dp[i][j] = min(dp[i - 1][j], dp[i][j - 1], dp[i - 1][j - 1]) + 1\n",
        "\n",
        "        return dp[m][n]"
      ],
      "metadata": {
        "id": "Lfnz6PFTsdrJ"
      },
      "execution_count": 3,
      "outputs": []
    },
    {
      "cell_type": "code",
      "source": [
        "spell_checker = SpellChecker()\n",
        "spell_checker.read_dic(\"/content/dictionary.txt\")\n",
        "\n",
        "# Test spell checking and suggestions\n",
        "input_word = \"beebeee\"\n",
        "suggestions = spell_checker.suggest_similar_words(input_word)\n",
        "print(f\"Suggestions for {input_word}: {suggestions}\")\n",
        "if input_word not in spell_checker.dic:\n",
        "    spell_checker.add_word(input_word)\n",
        "    print(f\"{input_word} has been added to the dictionary.\")"
      ],
      "metadata": {
        "colab": {
          "base_uri": "https://localhost:8080/"
        },
        "id": "DLfLYjFBse-W",
        "outputId": "5ee9dab6-fff9-49f5-cf1e-9a5cf1e533d2"
      },
      "execution_count": 11,
      "outputs": [
        {
          "output_type": "stream",
          "name": "stdout",
          "text": [
            "Suggestions for beebeee: ['berber', 'beekeeper', 'besiege', 'beeline']\n",
            "beebeee has been added to the dictionary.\n"
          ]
        }
      ]
    },
    {
      "cell_type": "code",
      "source": [],
      "metadata": {
        "id": "WsWJZLW2s2rL"
      },
      "execution_count": null,
      "outputs": []
    }
  ]
}